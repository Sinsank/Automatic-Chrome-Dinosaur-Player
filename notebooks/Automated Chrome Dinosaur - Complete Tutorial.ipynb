{
 "cells": [
  {
   "cell_type": "markdown",
   "metadata": {},
   "source": [
    "<u><h2>Functionalities</h2></u>\n",
    "<h3>(1) Normal State</h3>\n",
    "<img src='resources/basic.jpg' alt='basic-state-img'/>\n",
    "<h3>(2) Obstacle State</h3>\n",
    "<img src='resources/obstacle.jpg' alt='obstacle-state-img'/>\n",
    "<h3>(3) Jump State</h3>\n",
    "<img src='resources/up_down.jpg' alt='up_down-state-img'/>\n",
    "<hr>\n",
    "<u><h2>Implementations</h2></u>"
   ]
  },
  {
   "cell_type": "code",
   "execution_count": 1,
   "metadata": {},
   "outputs": [],
   "source": [
    "# related modules (install opencv, pyautogui, numpy, pynput libraries if haven't been already installed)\n",
    "\n",
    "import os  \n",
    "import cv2\n",
    "import datetime\n",
    "import pyautogui\n",
    "import numpy as np\n",
    "from pynput.keyboard import Key, Controller"
   ]
  },
  {
   "cell_type": "code",
   "execution_count": 2,
   "metadata": {},
   "outputs": [],
   "source": [
    "# constant variables and other status variables\n",
    "\n",
    "OBSTACLE_BOUNDING_ORIGIN = (380, 170)\n",
    "OBSTACLE_BOUNDING_END = (463, 228)\n",
    "HIGHEST_JUMP_BOUNDING_ORIGIN = (258, 14)\n",
    "HIGHEST_JUMP_BOUNDING_END = (341, 72)\n",
    "KEYBOARD = Controller()\n",
    "BOUND_AREA_COLORS = {\n",
    "    1: (0, 0, 255),\n",
    "    0: (0, 255, 0)\n",
    "}\n",
    "UP_DOWN_STATUS = {\n",
    "    'up': 1,\n",
    "    'down': 0\n",
    "}\n",
    "STATUS_IMAGE_Y = (410, 682)\n",
    "STATUS_IMAGE_X = (0, 1352)\n",
    "STATUS_IMAGE_RES = (1352, 330)\n",
    "\n",
    "jumps = 0\n",
    "prev_up_down_status = UP_DOWN_STATUS['down']"
   ]
  },
  {
   "cell_type": "code",
   "execution_count": 3,
   "metadata": {},
   "outputs": [],
   "source": [
    "# check about the availability of contours of given area threshold value on an image\n",
    "\n",
    "def check_contours_of_expected_area(image, area_thresh=0):\n",
    "    gray = cv2.cvtColor(image, cv2.COLOR_BGR2GRAY)\n",
    "    edged = cv2.Canny(gray, 100, 250)\n",
    "    contours, _ = cv2.findContours(edged, cv2.RETR_EXTERNAL, cv2.CHAIN_APPROX_NONE)\n",
    "    \n",
    "    for c in contours:\n",
    "        area = cv2.contourArea(c)\n",
    "        if area > area_thresh:\n",
    "            return 1\n",
    "    return 0"
   ]
  },
  {
   "cell_type": "code",
   "execution_count": 4,
   "metadata": {},
   "outputs": [],
   "source": [
    "# increase number of jumps by considering contour availability\n",
    "\n",
    "def count_jumps(cont_avb):\n",
    "    global prev_up_down_status, jumps\n",
    "    \n",
    "    if cont_avb is UP_DOWN_STATUS['up']:\n",
    "        if cont_avb is not prev_up_down_status:\n",
    "            jumps += 1\n",
    "            prev_up_down_status = cont_avb\n",
    "    else:\n",
    "        prev_up_down_status = 0"
   ]
  },
  {
   "cell_type": "code",
   "execution_count": 10,
   "metadata": {},
   "outputs": [],
   "source": [
    "# application entry\n",
    "\n",
    "def App():\n",
    "    global jumps\n",
    "    \n",
    "    cv2.waitKey(5000)\n",
    "    \n",
    "    jumps = 0\n",
    "    \n",
    "    KEYBOARD.press(Key.space)\n",
    "    cv2.waitKey(1)\n",
    "    KEYBOARD.release(Key.space)\n",
    "    \n",
    "    while True:\n",
    "        screen_image = np.array(pyautogui.screenshot())\n",
    "        screen_image = cv2.cvtColor(screen_image, cv2.COLOR_BGR2RGB)\n",
    "        screen_image = screen_image[STATUS_IMAGE_Y[0]: STATUS_IMAGE_Y[1], STATUS_IMAGE_X[0]: STATUS_IMAGE_X[1]]\n",
    "        \n",
    "        front_obs_block = screen_image[\n",
    "            OBSTACLE_BOUNDING_ORIGIN[1]: OBSTACLE_BOUNDING_END[1] + 1, \n",
    "            OBSTACLE_BOUNDING_ORIGIN[0]: OBSTACLE_BOUNDING_END[0] + 1\n",
    "        ]\n",
    "        highest_jump_block = screen_image[\n",
    "            HIGHEST_JUMP_BOUNDING_ORIGIN[1]: HIGHEST_JUMP_BOUNDING_END[1] + 1,\n",
    "            HIGHEST_JUMP_BOUNDING_ORIGIN[0]: HIGHEST_JUMP_BOUNDING_END[0] + 1\n",
    "        ]\n",
    "        \n",
    "        avb = check_contours_of_expected_area(front_obs_block)\n",
    "        obstacle_area_color, obstacle_status = BOUND_AREA_COLORS[0], 0\n",
    "        \n",
    "        if avb:\n",
    "            obstacle_area_color, obstacle_status = BOUND_AREA_COLORS[1], 1\n",
    "                \n",
    "            KEYBOARD.press(Key.space)\n",
    "            cv2.waitKey(1)\n",
    "            KEYBOARD.release(Key.space)\n",
    "        \n",
    "        avb = check_contours_of_expected_area(highest_jump_block)\n",
    "        highest_jump_bound_area_color, jump_status = BOUND_AREA_COLORS[0], 0\n",
    "        \n",
    "        if avb:\n",
    "            highest_jump_bound_area_color, jump_status = BOUND_AREA_COLORS[1], 1\n",
    "        count_jumps(avb)\n",
    "            \n",
    "        cv2.rectangle(screen_image, OBSTACLE_BOUNDING_ORIGIN, OBSTACLE_BOUNDING_END, obstacle_area_color, 2)\n",
    "        cv2.rectangle(screen_image, HIGHEST_JUMP_BOUNDING_ORIGIN, HIGHEST_JUMP_BOUNDING_END, highest_jump_bound_area_color, 2)\n",
    "        cv2.rectangle(screen_image, (OBSTACLE_BOUNDING_ORIGIN[0], OBSTACLE_BOUNDING_ORIGIN[1] - 22), (OBSTACLE_BOUNDING_ORIGIN[0] + 22, OBSTACLE_BOUNDING_ORIGIN[1]), obstacle_area_color, -1)\n",
    "        cv2.rectangle(screen_image, (HIGHEST_JUMP_BOUNDING_END[0], HIGHEST_JUMP_BOUNDING_ORIGIN[1]), (HIGHEST_JUMP_BOUNDING_END[0] + 22, HIGHEST_JUMP_BOUNDING_ORIGIN[1] + 22), highest_jump_bound_area_color, -1)\n",
    "        \n",
    "        screen_image = cv2.putText(screen_image, 'JUMPS: {}'.format(jumps), (570, 43), cv2.FONT_HERSHEY_SIMPLEX, 1.0, (0, 0, 255), 2)\n",
    "        screen_image = cv2.putText(screen_image, '{}'.format(obstacle_status), (384, 167), cv2.FONT_HERSHEY_SIMPLEX, 0.7, (255, 255, 255), 2)\n",
    "        screen_image = cv2.putText(screen_image, '{}'.format(jump_status), (345, 32), cv2.FONT_HERSHEY_SIMPLEX, 0.7, (255, 255, 255), 2)\n",
    "        \n",
    "        cv2.imshow(\"LIVE | Automated Chrome Dinosaur\", screen_image)\n",
    "        \n",
    "        k = cv2.waitKey(1)\n",
    "        if k == 27: \n",
    "            return                                                                                   "
   ]
  },
  {
   "cell_type": "code",
   "execution_count": 11,
   "metadata": {
    "scrolled": false
   },
   "outputs": [],
   "source": [
    "App()               \n",
    "cv2.destroyAllWindows()"
   ]
  },
  {
   "cell_type": "code",
   "execution_count": null,
   "metadata": {},
   "outputs": [],
   "source": []
  }
 ],
 "metadata": {
  "interpreter": {
   "hash": "0600588c3b5f4418cbe7b5ebc6825b479f3bc010269d8b60d75058cdd010adfe"
  },
  "kernelspec": {
   "display_name": "Python 3 (ipykernel)",
   "language": "python",
   "name": "python3"
  },
  "language_info": {
   "codemirror_mode": {
    "name": "ipython",
    "version": 3
   },
   "file_extension": ".py",
   "mimetype": "text/x-python",
   "name": "python",
   "nbconvert_exporter": "python",
   "pygments_lexer": "ipython3",
   "version": "3.7.2"
  }
 },
 "nbformat": 4,
 "nbformat_minor": 2
}
